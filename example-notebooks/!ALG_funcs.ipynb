{
 "cells": [
  {
   "cell_type": "code",
   "execution_count": 3,
   "metadata": {},
   "outputs": [],
   "source": [
    "import numpy as np"
   ]
  },
  {
   "cell_type": "markdown",
   "metadata": {},
   "source": [
    "#### Algemeen:"
   ]
  },
  {
   "cell_type": "code",
   "execution_count": 4,
   "metadata": {},
   "outputs": [],
   "source": [
    "def add_steps(n, arr):\n",
    "    i = 0\n",
    "    arr_new = []\n",
    "    while i < len(arr) - 1:\n",
    "        d_a = arr[i+1] - arr[i]\n",
    "        a = np.linspace(arr[i], arr[i+1], n + 1)\n",
    "        if i > 0:\n",
    "            a = a[1:]\n",
    "        arr_new = np.append(arr_new,a)            \n",
    "        #print(a)\n",
    "        i += 1\n",
    "\n",
    "    return arr_new"
   ]
  },
  {
   "cell_type": "code",
   "execution_count": 4,
   "metadata": {},
   "outputs": [],
   "source": [
    "def myround(x, n):\n",
    "    if x < 0:\n",
    "        return math.floor(x / n) * n\n",
    "    else:\n",
    "        return math.ceil(x / n) * n"
   ]
  },
  {
   "cell_type": "code",
   "execution_count": 3,
   "metadata": {},
   "outputs": [],
   "source": [
    "def find_nearest(lst, K):\n",
    "    return lst[min(range(len(lst)), key = lambda i: abs(lst[i]-K))] "
   ]
  },
  {
   "cell_type": "markdown",
   "metadata": {},
   "source": [
    "#### Liggers:"
   ]
  },
  {
   "cell_type": "code",
   "execution_count": 1,
   "metadata": {},
   "outputs": [],
   "source": [
    "def Mq_2stp(q, L, x):\n",
    "    return 0.5 * (q * L) * (x - x**2/L)\n",
    "\n",
    "def uq_2stp(q, L, x, E, I):\n",
    "    return (q * x) / (24 * E * I) * (L**3 - 2 * L * x**2 + x**3)"
   ]
  },
  {
   "cell_type": "code",
   "execution_count": 4,
   "metadata": {},
   "outputs": [],
   "source": [
    "def MF_2stp(F, L, a, x):\n",
    "    b = L - a\n",
    "    M = []\n",
    "    for x_el in x:\n",
    "        if x_el <= a:\n",
    "            MF = (F * b) / L * x_el\n",
    "        else:\n",
    "            MF = (F * a) / L * (L - x_el)\n",
    "        M = np.append(M, MF)\n",
    "    return M\n",
    "\n",
    "def uF_2stp(F, L, a, x, E, I):\n",
    "    b = L - a\n",
    "    u = []\n",
    "    for x_el in x:\n",
    "        if x_el <= a:\n",
    "            uF = (F * b * x_el) / (6 * E * I * L) * (2 * L * (L - x_el) - b**2 - (L - x_el)**2)\n",
    "        else:\n",
    "            uF = (F * a * (L - x_el)) / (6 * E * I * L) * (2 * L * b - b**2 - (L - x_el)**2)\n",
    "        u = np.append(u, uF)\n",
    "    return u"
   ]
  },
  {
   "cell_type": "code",
   "execution_count": null,
   "metadata": {},
   "outputs": [],
   "source": []
  }
 ],
 "metadata": {
  "kernelspec": {
   "display_name": "Python 3",
   "language": "python",
   "name": "python3"
  },
  "language_info": {
   "codemirror_mode": {
    "name": "ipython",
    "version": 3
   },
   "file_extension": ".py",
   "mimetype": "text/x-python",
   "name": "python",
   "nbconvert_exporter": "python",
   "pygments_lexer": "ipython3",
   "version": "3.7.7"
  }
 },
 "nbformat": 4,
 "nbformat_minor": 4
}
