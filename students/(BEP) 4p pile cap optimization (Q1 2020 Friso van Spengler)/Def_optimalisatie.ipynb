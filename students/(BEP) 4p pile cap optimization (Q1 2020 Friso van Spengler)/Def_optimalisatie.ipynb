{
 "cells": [
  {
   "cell_type": "code",
   "execution_count": 3,
   "metadata": {},
   "outputs": [],
   "source": [
    "import numpy as np\n",
    "from scipy.optimize import minimize_scalar\n",
    "import warnings\n",
    "%run Def_berekening.ipynb"
   ]
  },
  {
   "cell_type": "markdown",
   "metadata": {},
   "source": [
    "#### Optimalisatie\n",
    "\n",
    "Dit script bevat een functie die de optimalisatie van een 4-paals blokpoer uitvoert. In de optimalisatie worden de berekening en controleberekening uit het script 'berekening poer' aangeroepen. Daarnaast vraagt de functie enkele input gegevens, dit zijn:\n",
    "- Paaldiameter\n",
    "- Kolomdiameter\n",
    "- Permanente belasting\n",
    "- Variabele belasting\n",
    "- Kosten beton\n",
    "- Kosten staal\n",
    "- Milieubelasting beton\n",
    "- Milieubelasting staal\n",
    "- Betonsterkteklasse\n",
    "\n",
    "Daarnaast heeft de functie nog een aantal keyword arguments die een vaste waarde hebben, mocht het nodig zijn kunnen deze waardes ook gevarieerd worden. De breedte van de trekstang wordt berekend door een waarde bij de paaldiameter op te tellen, deze waarde is bt genoemd en is ook een keyword argument.\n",
    "\n",
    "In de functie worden de drie optimalisatievariabelen gevarieerd. Vervolgens wordt een loop opgezet waarin een berekening wordt uitgevoerd voor alle mogelijke combinaties van variabelen. Alle poerconfiguraties die voldoen aan de toetsing van de poer worden ingevuld in een 3 dimensionale array. Mocht een poerconfiguratie niet voldoen dan wordt np.nan gereturnd. Vervolgens wordt de optimale waarde voor kosten en milieubelasting bepaald.\n",
    "\n",
    "De output van de functie zijn de resultaten van de berekening voor de twee optimale poerconfiguraties en de waarden van de optimalisatievariabelen die daarbij horen. De functie wordt aangeroepen en gebruikt in het script 'tool'."
   ]
  },
  {
   "cell_type": "code",
   "execution_count": 2,
   "metadata": {},
   "outputs": [],
   "source": [
    "def optimalisatie(Dp, Dk, Gk, Qk, beton, kb, ks, db, ds, GammaG = 1.2, GammaQ = 1.5, staal = 'B500B', dverdeel = 12, d = 400, constructieklasse = 'S4', bt = 2 * 175, c = 50):\n",
    "    b = Dp + bt           \n",
    "    H = np.arange(100, 1500, 10)\n",
    "    dstaaf = [12, 16, 20, 25, 32, 40]\n",
    "    n = np.arange(2, 15)\n",
    "    kosten = np.zeros((len(H),len(dstaaf), len(n)))\n",
    "    duurzaamheid = np.zeros((len(H),len(dstaaf), len(n)))\n",
    "    for i in range(len(H)):\n",
    "        for j in range(len(dstaaf)):\n",
    "            for k in range(len(n)):\n",
    "                kosten[i,j,k] = berekening(Dp, Dk, H[i], dstaaf[j], n[k], dverdeel, b, Gk, Qk, GammaG, GammaQ, constructieklasse, d, beton, staal, kb, ks, db, ds, c)\n",
    "                duurzaamheid[i,j,k] = berekening1(Dp, Dk, H[i], dstaaf[j], n[k], dverdeel, b, Gk, Qk, GammaG, GammaQ, constructieklasse, d, beton, staal, kb, ks, db, ds, c)\n",
    "             \n",
    "    if np.isnan(kosten).all():\n",
    "        warnings.warn(\"Betonspanning is altijd hoger dan maximale betonspanning, kies hogere betonsterkteklasse of smallere kolom en/of funderingspalen\", RuntimeWarning, stacklevel=3)\n",
    "    \n",
    "    goedkoopst = np.nanmin(kosten)\n",
    "    loc = np.argwhere(kosten == goedkoopst)\n",
    "   \n",
    "    duurzaamst = np.nanmin(duurzaamheid)\n",
    "    loc1 = np.argwhere(duurzaamheid == duurzaamst)\n",
    "    \n",
    "    H1 = H[loc[0][0]]\n",
    "    dstaaf1 = dstaaf[loc[0][1]]\n",
    "    n1 = n[loc[0][2]]\n",
    "    H2 = H[loc1[0][0]]\n",
    "    dstaaf2 = dstaaf[loc1[0][1]]\n",
    "    n2 = n[loc1[0][2]]\n",
    "    \n",
    "    out1 = controleberekening(Dp, Dk, H1, dstaaf1, n1, dverdeel, b, Gk, Qk, GammaG, GammaQ, constructieklasse, d, beton, staal, kb, ks, db, ds, c)\n",
    "    out2 = controleberekening(Dp, Dk, H2, dstaaf2, n2, dverdeel, b, Gk, Qk, GammaG, GammaQ, constructieklasse, d, beton, staal, kb, ks, db, ds, c)\n",
    "    \n",
    "    return out1, out2, H1, dstaaf1, n1, H2, dstaaf2, n2"
   ]
  },
  {
   "cell_type": "code",
   "execution_count": null,
   "metadata": {},
   "outputs": [],
   "source": []
  }
 ],
 "metadata": {
  "kernelspec": {
   "display_name": "Python 3",
   "language": "python",
   "name": "python3"
  },
  "language_info": {
   "codemirror_mode": {
    "name": "ipython",
    "version": 3
   },
   "file_extension": ".py",
   "mimetype": "text/x-python",
   "name": "python",
   "nbconvert_exporter": "python",
   "pygments_lexer": "ipython3",
   "version": "3.6.5"
  }
 },
 "nbformat": 4,
 "nbformat_minor": 2
}
